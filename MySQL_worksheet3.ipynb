{
 "cells": [
  {
   "cell_type": "code",
   "execution_count": 1,
   "id": "10bedc2b",
   "metadata": {},
   "outputs": [],
   "source": [
    "import sqlite3"
   ]
  },
  {
   "cell_type": "code",
   "execution_count": 2,
   "id": "acbb0a7d",
   "metadata": {},
   "outputs": [],
   "source": [
    "db = sqlite3.connect(\"customer_database.db\")"
   ]
  },
  {
   "cell_type": "code",
   "execution_count": 3,
   "id": "7e60864f",
   "metadata": {},
   "outputs": [],
   "source": [
    "cursor = db.cursor()"
   ]
  },
  {
   "cell_type": "code",
   "execution_count": 4,
   "id": "47c37a25",
   "metadata": {},
   "outputs": [
    {
     "data": {
      "text/plain": [
       "<sqlite3.Cursor at 0x1c54da4c1f0>"
      ]
     },
     "execution_count": 4,
     "metadata": {},
     "output_type": "execute_result"
    }
   ],
   "source": [
    "cursor.execute(\"CREATE TABLE IF NOT EXISTS customer_data(customer_number INT PRIMARY KEY, customer_Name TEXT, contact_Last_Name TEXT, contact_First_Name TEXT, phone INT, address_Line1 TEXT, address_Line2 TEXT, city TEXT, state TEXT, postal_code INT, country TEXT, sales_Rep_Employee_Number INT, credit_Limit INT)\")"
   ]
  },
  {
   "cell_type": "code",
   "execution_count": 7,
   "id": "c764b1b2",
   "metadata": {},
   "outputs": [
    {
     "name": "stdout",
     "output_type": "stream",
     "text": [
      "1  Record(s) inserted\n"
     ]
    }
   ],
   "source": [
    "cursor.execute(\"INSERT INTO customer_data(customer_number, customer_Name, contact_Last_Name,contact_First_Name, phone, address_Line1, address_Line2, city, state, postal_code, country, sales_Rep_Employee_Number, credit_Limit) VALUES (3020, 'John', 'Wick', 'Wade', 9899887701, 'a2 block', 'lincoln street1', 'edinburgh', 'london', 400001, 'United Kingdom', 42110, 4000)\")\n",
    "\n",
    "db.commit()\n",
    "\n",
    "print (cursor.rowcount,\" Record(s) inserted\")"
   ]
  },
  {
   "cell_type": "code",
   "execution_count": 9,
   "id": "a2b9d892",
   "metadata": {},
   "outputs": [
    {
     "name": "stdout",
     "output_type": "stream",
     "text": [
      "(3020, 'John', 'Wick', 'Wade', 9899887701, 'a2 block', 'lincoln street1', 'edinburgh', 'london', 400001, 'United Kingdom', 42110, 4000)\n"
     ]
    }
   ],
   "source": [
    "results = cursor.execute(\"SELECT * FROM customer_data\")\n",
    "for row in results:\n",
    "    print(row)"
   ]
  },
  {
   "cell_type": "code",
   "execution_count": 10,
   "id": "7d3ecb1a",
   "metadata": {},
   "outputs": [
    {
     "name": "stdout",
     "output_type": "stream",
     "text": [
      "11 Records Inserted\n"
     ]
    }
   ],
   "source": [
    "with open(\"C:/Users/hp/customer_data.csv\",'r') as file:\n",
    "        no_records = 0\n",
    "        for row in file:\n",
    "            cursor.execute(\"INSERT INTO customer_data VALUES (?,?,?,?,?,?,?,?,?,?,?,?,?)\",row.split(\",\"))\n",
    "            db.commit()\n",
    "            no_records +=1\n",
    "            \n",
    "print(no_records, 'Records Inserted')"
   ]
  },
  {
   "cell_type": "code",
   "execution_count": 11,
   "id": "eac892c2",
   "metadata": {},
   "outputs": [
    {
     "name": "stdout",
     "output_type": "stream",
     "text": [
      "(3020, 'John', 'Wick', 'Wade', 9899887701, 'a2 block', 'lincoln street1', 'edinburgh', 'london', 400001, 'United Kingdom', 42110, 4000)\n",
      "(3021, 'Aaron', 'Nicolson', 'Phillip', 9988776604, 'A appartment', 'Scarcroft Road', 'Portnaguran', 'North Umbria', 400002, 'United kingdom', 42112, 5000)\n",
      "(3022, 'Salah', 'Pele', 'Anderson', 9988776605, 'B appartment', 'Nenthead Road', 'High Grange', 'Burminghum', 400004, 'United kingdom', 42113, 4500)\n",
      "(3023, 'Heung-Son', 'Huang', 'Mee', 9988776606, 'C appartment', 'Ilchester Road', 'Myndtown', 'California', 400011, 'United State', 42114, 6200)\n",
      "(3024, 'Ronaldo', 'Danny', 'Woods', 9988776607, 'D appartment', 'Uxbridge Road', 'Small Dole', 'Wassex', 400025, 'United kingdom', 42115, 3500)\n",
      "(3025, 'Kane', 'James', 'White', 9988776608, 'E appartment', 'Jedburgh Road', 'Levenshulme', 'Fordner', 400005, 'United State', 42116, 4100)\n",
      "(3026, 'Mane', 'Cameroon', 'Wayne', 6609998877, 'N appartment', 'Fraserburgh Rd', 'Lidgate', 'Britain', 300085, 'United kingdom', 42117, 3820)\n",
      "(3027, 'Vardy', 'Martin', 'Collin', 6609998878, 'M appartment', 'Andrews Lane', 'Daddry Shield', 'Nevada', 300165, 'United State', 42118, 3540)\n",
      "(3028, 'Jota', 'Andrew', 'Deamon', 6609998879, 'K appartment', 'St Denys Road', 'Poughill', 'Oxford', 310045, 'United kingdom', 42119, 3260)\n",
      "(3029, 'Bruyne', 'Planke', 'Rogers', 6609998880, 'L appartment', 'Park Terrace', 'Gladsmuir', 'Texas', 301025, 'United State', 42120, 2980)\n",
      "(3030, 'Zaha', 'Lennon', 'Denis', 6609998881, 'R appartment', 'Newgate Street', 'Jameston', 'Melbourne', 300005, 'Australia', 42121, 2700)\n",
      "(3031, 'Sterling', 'Harper', 'Woolner', 9988776614, 'T appartment', 'Great North Road', 'Alstonefield', 'Denim', 370105, 'United kingdom', 42122, 2420)\n"
     ]
    }
   ],
   "source": [
    "results = cursor.execute(\"SELECT * FROM customer_data\")\n",
    "for row in results:\n",
    "    print(row)"
   ]
  },
  {
   "cell_type": "code",
   "execution_count": 15,
   "id": "ff87ab31",
   "metadata": {},
   "outputs": [
    {
     "data": {
      "text/plain": [
       "<sqlite3.Cursor at 0x1c54da4c1f0>"
      ]
     },
     "execution_count": 15,
     "metadata": {},
     "output_type": "execute_result"
    }
   ],
   "source": [
    "cursor.execute(\"CREATE TABLE IF NOT EXISTS products(product_code INT PRIMARY KEY, product_name TEXT, product_line TEXT, product_scale INT, product_vendor TEXT, product_description TEXT, quantity_instock INT, buyprice INT, MSRP INT)\")"
   ]
  },
  {
   "cell_type": "code",
   "execution_count": 20,
   "id": "7a290d1d",
   "metadata": {},
   "outputs": [
    {
     "data": {
      "text/plain": [
       "<sqlite3.Cursor at 0x1c54da4c1f0>"
      ]
     },
     "execution_count": 20,
     "metadata": {},
     "output_type": "execute_result"
    }
   ],
   "source": [
    "cursor.execute(\"INSERT INTO products(product_code, product_name, product_line, product_scale, product_vendor, product_description, quantity_instock, buyprice, MSRP) VALUES (37, 'Lamborghini', 'Bburago',1/18, 'Biante', 'Die-cast model', 142, 5500,5750)\")"
   ]
  },
  {
   "cell_type": "code",
   "execution_count": 21,
   "id": "25e1d982",
   "metadata": {},
   "outputs": [
    {
     "name": "stdout",
     "output_type": "stream",
     "text": [
      "11 Records Inserted\n"
     ]
    }
   ],
   "source": [
    "with open(\"C:/Users/hp/products.csv\",'r') as file:\n",
    "        no_records = 0\n",
    "        for row in file:\n",
    "            cursor.execute(\"INSERT INTO products VALUES (?,?,?,?,?,?,?,?,?)\",row.split(\",\"))\n",
    "            db.commit()\n",
    "            no_records +=1\n",
    "            \n",
    "print(no_records, 'Records Inserted')"
   ]
  },
  {
   "cell_type": "code",
   "execution_count": null,
   "id": "64f261f8",
   "metadata": {},
   "outputs": [],
   "source": []
  },
  {
   "cell_type": "code",
   "execution_count": null,
   "id": "3f1bfd6b",
   "metadata": {},
   "outputs": [],
   "source": []
  },
  {
   "cell_type": "code",
   "execution_count": null,
   "id": "96ef3882",
   "metadata": {},
   "outputs": [],
   "source": []
  },
  {
   "cell_type": "code",
   "execution_count": null,
   "id": "5bb025a3",
   "metadata": {},
   "outputs": [],
   "source": []
  },
  {
   "cell_type": "code",
   "execution_count": null,
   "id": "25cda17c",
   "metadata": {},
   "outputs": [],
   "source": []
  },
  {
   "cell_type": "code",
   "execution_count": null,
   "id": "74196d62",
   "metadata": {},
   "outputs": [],
   "source": []
  },
  {
   "cell_type": "code",
   "execution_count": null,
   "id": "b41d52ce",
   "metadata": {},
   "outputs": [],
   "source": []
  },
  {
   "cell_type": "code",
   "execution_count": null,
   "id": "ea027ffe",
   "metadata": {},
   "outputs": [],
   "source": []
  },
  {
   "cell_type": "code",
   "execution_count": null,
   "id": "ac91622e",
   "metadata": {},
   "outputs": [],
   "source": []
  },
  {
   "cell_type": "code",
   "execution_count": null,
   "id": "20da0c77",
   "metadata": {},
   "outputs": [],
   "source": []
  },
  {
   "cell_type": "code",
   "execution_count": null,
   "id": "b0b16163",
   "metadata": {},
   "outputs": [],
   "source": []
  },
  {
   "cell_type": "code",
   "execution_count": null,
   "id": "8f6fbfde",
   "metadata": {},
   "outputs": [],
   "source": []
  },
  {
   "cell_type": "code",
   "execution_count": null,
   "id": "10d2b820",
   "metadata": {},
   "outputs": [],
   "source": []
  },
  {
   "cell_type": "code",
   "execution_count": null,
   "id": "e28e6720",
   "metadata": {},
   "outputs": [],
   "source": []
  },
  {
   "cell_type": "code",
   "execution_count": null,
   "id": "4088b0ac",
   "metadata": {},
   "outputs": [],
   "source": []
  },
  {
   "cell_type": "code",
   "execution_count": null,
   "id": "c8196853",
   "metadata": {},
   "outputs": [],
   "source": []
  },
  {
   "cell_type": "code",
   "execution_count": null,
   "id": "9ff086da",
   "metadata": {},
   "outputs": [],
   "source": []
  },
  {
   "cell_type": "code",
   "execution_count": null,
   "id": "223e66f2",
   "metadata": {},
   "outputs": [],
   "source": []
  }
 ],
 "metadata": {
  "kernelspec": {
   "display_name": "Python 3 (ipykernel)",
   "language": "python",
   "name": "python3"
  },
  "language_info": {
   "codemirror_mode": {
    "name": "ipython",
    "version": 3
   },
   "file_extension": ".py",
   "mimetype": "text/x-python",
   "name": "python",
   "nbconvert_exporter": "python",
   "pygments_lexer": "ipython3",
   "version": "3.9.12"
  }
 },
 "nbformat": 4,
 "nbformat_minor": 5
}
